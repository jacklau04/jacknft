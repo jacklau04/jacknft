{
 "cells": [
  {
   "cell_type": "code",
   "execution_count": 1,
   "metadata": {},
   "outputs": [],
   "source": [
    "import json\n",
    "\n",
    "in_file_path='_metadata.json' # Change me!\n",
    "\n",
    "with open(in_file_path,'r') as in_json_file:\n",
    "\n",
    "    # Read the file and convert it to a dictionary\n",
    "    json_obj_list = json.load(in_json_file)\n",
    "\n",
    "    for json_obj in json_obj_list:\n",
    "        filename=str(json_obj['edition'])+'.json'\n",
    "\n",
    "        with open(filename, 'w') as out_json_file:\n",
    "            # Save each obj to their respective filepath\n",
    "            # with pretty formatting thanks to `indent=4`\n",
    "            json.dump(json_obj, out_json_file, indent=4)"
   ]
  }
 ],
 "metadata": {
  "kernelspec": {
   "display_name": "Python 3",
   "language": "python",
   "name": "python3"
  },
  "language_info": {
   "codemirror_mode": {
    "name": "ipython",
    "version": 3
   },
   "file_extension": ".py",
   "mimetype": "text/x-python",
   "name": "python",
   "nbconvert_exporter": "python",
   "pygments_lexer": "ipython3",
   "version": "3.8.5"
  }
 },
 "nbformat": 4,
 "nbformat_minor": 4
}
